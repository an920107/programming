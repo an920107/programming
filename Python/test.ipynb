{
 "cells": [
  {
   "cell_type": "markdown",
   "metadata": {},
   "source": [
    "# 函數"
   ]
  },
  {
   "cell_type": "markdown",
   "metadata": {},
   "source": [
    "## 基本使用"
   ]
  },
  {
   "cell_type": "code",
   "execution_count": 23,
   "metadata": {},
   "outputs": [
    {
     "name": "stdout",
     "output_type": "stream",
     "text": [
      "ご注文はうさぎですか？\n"
     ]
    }
   ],
   "source": [
    "def chino_chan() -> None:\n",
    "\tprint(\"ご注文はうさぎですか？\")\n",
    "\n",
    "chino_chan()"
   ]
  },
  {
   "cell_type": "code",
   "execution_count": 24,
   "metadata": {},
   "outputs": [
    {
     "name": "stdout",
     "output_type": "stream",
     "text": [
      "ココアさん、おはよございます\n"
     ]
    }
   ],
   "source": [
    "def chino_chan(name: str) -> None:\n",
    "    if len(name) == 0:\n",
    "        return\n",
    "    print(f\"{name}、おはよございます\")\n",
    "\n",
    "chino_chan(\"ココアさん\")"
   ]
  },
  {
   "cell_type": "code",
   "execution_count": 25,
   "metadata": {},
   "outputs": [
    {
     "name": "stdout",
     "output_type": "stream",
     "text": [
      "True\n",
      "False\n"
     ]
    }
   ],
   "source": [
    "def is_odd(num: int) -> bool:\n",
    "    if num % 2 == 1:\n",
    "        return True\n",
    "    return False\n",
    "\n",
    "print(is_odd(3))\n",
    "print(is_odd(10))"
   ]
  },
  {
   "cell_type": "code",
   "execution_count": 26,
   "metadata": {},
   "outputs": [
    {
     "name": "stdout",
     "output_type": "stream",
     "text": [
      "{'name': '百寬', 'id': 109502487, 'email': 'quan@gmail.com'}\n",
      "{'name': '百寬', 'id': 109502487, 'email': 'quan@gmail.com'}\n"
     ]
    }
   ],
   "source": [
    "def student(name: str, id_num: int, email: str) -> dict:\n",
    "    return {\"name\": name, \"id\": id_num, \"email\": email}\n",
    "\n",
    "print(student(\"百寬\", 109502487, \"quan@gmail.com\"))\n",
    "print(student(\"百寬\", email= \"quan@gmail.com\", id_num= 109502487))"
   ]
  },
  {
   "cell_type": "markdown",
   "metadata": {},
   "source": [
    "## 參數預設值"
   ]
  },
  {
   "cell_type": "code",
   "execution_count": 27,
   "metadata": {},
   "outputs": [
    {
     "name": "stdout",
     "output_type": "stream",
     "text": [
      "ね！西片！勝負しないか\n",
      "ね！百寬！勝負しないか\n"
     ]
    }
   ],
   "source": [
    "def takagi_san(name: str = \"西片\") -> None:\n",
    "    print(f\"ね！{name}！勝負しないか\")\n",
    "\n",
    "takagi_san()\n",
    "takagi_san(\"百寬\")"
   ]
  },
  {
   "cell_type": "markdown",
   "metadata": {},
   "source": [
    "## 公域、區域變數"
   ]
  },
  {
   "cell_type": "code",
   "execution_count": 28,
   "metadata": {},
   "outputs": [
    {
     "name": "stdout",
     "output_type": "stream",
     "text": [
      "1\n"
     ]
    }
   ],
   "source": [
    "num_pub = 0\n",
    "\n",
    "def foo() -> None:\n",
    "    global num_pub\n",
    "    num_pub = 1\n",
    "    num_pri = 1\n",
    "\n",
    "foo()\n",
    "print(num_pub)\n",
    "# print(num_pri)"
   ]
  },
  {
   "cell_type": "markdown",
   "metadata": {},
   "source": [
    "## 傳址、傳值？"
   ]
  },
  {
   "cell_type": "markdown",
   "metadata": {},
   "source": [
    "### 記憶體位置"
   ]
  },
  {
   "cell_type": "code",
   "execution_count": 29,
   "metadata": {},
   "outputs": [
    {
     "name": "stdout",
     "output_type": "stream",
     "text": [
      "9804416\n",
      "9804416\n",
      "9804416\n"
     ]
    }
   ],
   "source": [
    "a = 100\n",
    "b = 100\n",
    "print(id(a))\n",
    "print(id(b))\n",
    "print(id(100))"
   ]
  },
  {
   "cell_type": "code",
   "execution_count": 30,
   "metadata": {},
   "outputs": [
    {
     "name": "stdout",
     "output_type": "stream",
     "text": [
      "139831472651536\n",
      "139831474080528\n",
      "139831472648240\n"
     ]
    }
   ],
   "source": [
    "a = 100.0\n",
    "b = 100.0\n",
    "print(id(a))\n",
    "print(id(b))\n",
    "print(id(100.0))"
   ]
  },
  {
   "cell_type": "markdown",
   "metadata": {},
   "source": [
    "### immutable 與 mutable"
   ]
  },
  {
   "cell_type": "code",
   "execution_count": 31,
   "metadata": {},
   "outputs": [
    {
     "name": "stdout",
     "output_type": "stream",
     "text": [
      "float:139831472649168 tuple:139831472957568 list:139831472993216\n",
      "float:139831472648400 tuple:139831472671424 list:139831472993216\n"
     ]
    }
   ],
   "source": [
    "flt = 1.0\n",
    "tup = (1, 2, 3)\n",
    "lst = [1, 2, 3]\n",
    "print(f\"float:{id(flt)} tuple:{id(tup)} list:{id(lst)}\")\n",
    "flt += 1\n",
    "tup += (4, 5, 6)\n",
    "lst += [4, 5, 6]\n",
    "print(f\"float:{id(flt)} tuple:{id(tup)} list:{id(lst)}\")"
   ]
  },
  {
   "cell_type": "code",
   "execution_count": 32,
   "metadata": {},
   "outputs": [
    {
     "name": "stdout",
     "output_type": "stream",
     "text": [
      "tup   : 139831473241024\t\tlst   : 139831473265664\n",
      "tup_cp: 139831473241024\t\tlst_cp: 139831473265664\n",
      "tup   : (1, 2, 3)\t\tlst   : [1, 2, 3, 4, 5, 6]\n",
      "tup_cp: (1, 2, 3, 4, 5, 6)\tlst_cp: [1, 2, 3, 4, 5, 6]\n"
     ]
    }
   ],
   "source": [
    "tup = (1, 2, 3)\n",
    "lst = [1, 2, 3]\n",
    "\n",
    "tup_cp = tup\n",
    "lst_cp = lst\n",
    "\n",
    "print(f\"tup   : {id(tup)}\\t\\tlst   : {id(lst)}\")\n",
    "print(f\"tup_cp: {id(tup_cp)}\\t\\tlst_cp: {id(lst_cp)}\")\n",
    "\n",
    "tup_cp += (4, 5, 6)\n",
    "lst_cp += [4, 5, 6]\n",
    "\n",
    "print(f\"tup   : {tup}\\t\\tlst   : {lst}\")\n",
    "print(f\"tup_cp: {tup_cp}\\tlst_cp: {lst_cp}\")\n"
   ]
  },
  {
   "cell_type": "markdown",
   "metadata": {},
   "source": [
    "### 函數傳址不傳值"
   ]
  },
  {
   "cell_type": "code",
   "execution_count": 33,
   "metadata": {},
   "outputs": [
    {
     "name": "stdout",
     "output_type": "stream",
     "text": [
      "9801216 9801216\n",
      "139831472994944 139831472994944\n",
      "139831473265536 139831473265536\n"
     ]
    }
   ],
   "source": [
    "def foo(obj) -> int:\n",
    "    return id(obj)\n",
    "\n",
    "num = 0\n",
    "tup = (1, 2, 3)\n",
    "lst = [1, 2, 3]\n",
    "print(id(num), foo(num))\n",
    "print(id(tup), foo(tup))\n",
    "print(id(lst), foo(lst))"
   ]
  },
  {
   "cell_type": "code",
   "execution_count": 34,
   "metadata": {},
   "outputs": [
    {
     "name": "stdout",
     "output_type": "stream",
     "text": [
      "(1, 2, 3)\n",
      "[1, 2, 3, 4, 5, 6]\n"
     ]
    }
   ],
   "source": [
    "def foo(t: tuple, l: list) -> None:\n",
    "    t += (4, 5, 6)\n",
    "    l += [4, 5, 6]\n",
    "    \n",
    "tup = (1, 2, 3)\n",
    "lst = [1, 2, 3]\n",
    "foo(tup, lst)\n",
    "print(tup)\n",
    "print(lst)"
   ]
  },
  {
   "cell_type": "markdown",
   "metadata": {},
   "source": [
    "### 深拷貝與淺拷貝"
   ]
  },
  {
   "cell_type": "code",
   "execution_count": 35,
   "metadata": {},
   "outputs": [
    {
     "name": "stdout",
     "output_type": "stream",
     "text": [
      "['0', [1, 2, '0']]\n",
      "[0, [1, 2, '0']]\n",
      "[0, [1, 2]]\n"
     ]
    }
   ],
   "source": [
    "def foo(l: list) -> None:\n",
    "    for i in range(len(l)):\n",
    "        if (type(l[i]) == list):\n",
    "            l[i].append(\"0\")\n",
    "        else:\n",
    "            l[i] = \"0\"\n",
    "\n",
    "# 直接傳址\n",
    "lst = [0, [1, 2]]\n",
    "foo(lst)\n",
    "print(lst)\n",
    "\n",
    "# 淺拷貝\n",
    "lst = [0, [1, 2]]\n",
    "foo(lst.copy())\n",
    "print(lst)\n",
    "\n",
    "# 深拷貝\n",
    "from copy import deepcopy\n",
    "lst = [0, [1, 2]]\n",
    "foo(deepcopy(lst))\n",
    "print(lst)"
   ]
  },
  {
   "cell_type": "markdown",
   "metadata": {},
   "source": [
    "## lambda 函數"
   ]
  },
  {
   "cell_type": "markdown",
   "metadata": {},
   "source": [
    "### 使用方式"
   ]
  },
  {
   "cell_type": "code",
   "execution_count": 36,
   "metadata": {},
   "outputs": [
    {
     "name": "stdout",
     "output_type": "stream",
     "text": [
      "9\n",
      "9\n",
      "9\n"
     ]
    }
   ],
   "source": [
    "def foo(x):\n",
    "\treturn x ** 2\n",
    "print(foo(3))\n",
    "\n",
    "lam = lambda x: x ** 2\n",
    "print(lam(3))\n",
    "\n",
    "print((lambda x: x ** 2)(3))"
   ]
  },
  {
   "cell_type": "markdown",
   "metadata": {},
   "source": [
    "### lambda 的應用"
   ]
  },
  {
   "cell_type": "code",
   "execution_count": 37,
   "metadata": {},
   "outputs": [
    {
     "name": "stdout",
     "output_type": "stream",
     "text": [
      "[(0, 0), (1, -1), (2, 3)]\n",
      "[(1, -1), (0, 0), (2, 3)]\n"
     ]
    }
   ],
   "source": [
    "lst = [(0, 0), (1, -1), (2, 3)]\n",
    "\n",
    "# 預設排序\n",
    "print(sorted(lst))\n",
    "# 以第 1 個元素為主排序\n",
    "print(sorted(lst, key= lambda tup: tup[1]))"
   ]
  },
  {
   "cell_type": "code",
   "execution_count": 38,
   "metadata": {},
   "outputs": [
    {
     "name": "stdout",
     "output_type": "stream",
     "text": [
      "[0, 1, -4]\n"
     ]
    }
   ],
   "source": [
    "lst = [0, 1, \"abc\", 2.5, True, -4]\n",
    "\n",
    "# 過濾出型態為 int 者\n",
    "print(list(filter(lambda elm: type(elm) == int, lst)))"
   ]
  },
  {
   "cell_type": "code",
   "execution_count": 39,
   "metadata": {},
   "outputs": [
    {
     "name": "stdout",
     "output_type": "stream",
     "text": [
      "['abc', 'defg', 'ijk']\n"
     ]
    }
   ],
   "source": [
    "lst = [\"abc\\n\", \"defg\\n\", \"ijk\"]\n",
    "\n",
    "# 將 lst 每個字串去除頭尾的 \\n\n",
    "print(list(map(lambda s: s.strip(\"\\n\"), lst)))"
   ]
  }
 ],
 "metadata": {
  "kernelspec": {
   "display_name": "Python 3.8.10 64-bit",
   "language": "python",
   "name": "python3"
  },
  "language_info": {
   "codemirror_mode": {
    "name": "ipython",
    "version": 3
   },
   "file_extension": ".py",
   "mimetype": "text/x-python",
   "name": "python",
   "nbconvert_exporter": "python",
   "pygments_lexer": "ipython3",
   "version": "3.8.10"
  },
  "orig_nbformat": 4,
  "vscode": {
   "interpreter": {
    "hash": "e7370f93d1d0cde622a1f8e1c04877d8463912d04d973331ad4851f04de6915a"
   }
  }
 },
 "nbformat": 4,
 "nbformat_minor": 2
}
