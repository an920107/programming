{
 "cells": [
  {
   "cell_type": "code",
   "execution_count": 45,
   "metadata": {},
   "outputs": [
    {
     "name": "stdout",
     "output_type": "stream",
     "text": [
      "dict_keys([0, 3, 2, 10])\n",
      "dict_values([1, 2, 2, 10])\n",
      "dict_items([(0, 1), (3, 2), (2, 2), (10, 10)])\n",
      "(0, 1)\n",
      "(3, 2)\n",
      "(2, 2)\n",
      "(10, 10)\n",
      "0 1\n",
      "3 2\n",
      "2 2\n",
      "10 10\n"
     ]
    }
   ],
   "source": [
    "dic = {0: 1, 3: 2, 2: 2}\n",
    "\n",
    "dic.update({10: 10})\n",
    "dic\n",
    "\n",
    "print((dic.keys()))\n",
    "print((dic.values()))\n",
    "print((dic.items()))\n",
    "\n",
    "for elm in dic.items():\n",
    "    print(elm)\n",
    "\n",
    "for k, v in dic.items():\n",
    "    print(k, v)\n"
   ]
  },
  {
   "cell_type": "code",
   "execution_count": 29,
   "metadata": {},
   "outputs": [
    {
     "data": {
      "text/plain": [
       "['c', 'a', 'e', 's', 'n']"
      ]
     },
     "execution_count": 29,
     "metadata": {},
     "output_type": "execute_result"
    }
   ],
   "source": [
    "lst = ['s', 'q', 'u', 'i', 'd']\n",
    "for i in range(len(lst)):\n",
    "\tlst[i] = chr(ord(lst[i]) + 10)\n",
    "\tif ord(lst[i]) > ord('z'):\n",
    "\t\tlst[i] = chr(ord(lst[i]) - 26)\n",
    "lst"
   ]
  },
  {
   "cell_type": "code",
   "execution_count": 30,
   "metadata": {},
   "outputs": [
    {
     "data": {
      "text/plain": [
       "['c', 'a', 'e', 's', 'n']"
      ]
     },
     "execution_count": 30,
     "metadata": {},
     "output_type": "execute_result"
    }
   ],
   "source": [
    "lst = ['s', 'q', 'u', 'i', 'd']\n",
    "lst = [chr(ord(ch) + 10) if ord(ch) + 10 <= ord('z')\n",
    "    else chr(ord(ch) - 16) for ch in lst]\n",
    "lst"
   ]
  }
 ],
 "metadata": {
  "kernelspec": {
   "display_name": "Python 3.8.10 64-bit",
   "language": "python",
   "name": "python3"
  },
  "language_info": {
   "codemirror_mode": {
    "name": "ipython",
    "version": 3
   },
   "file_extension": ".py",
   "mimetype": "text/x-python",
   "name": "python",
   "nbconvert_exporter": "python",
   "pygments_lexer": "ipython3",
   "version": "3.8.10"
  },
  "orig_nbformat": 4,
  "vscode": {
   "interpreter": {
    "hash": "e7370f93d1d0cde622a1f8e1c04877d8463912d04d973331ad4851f04de6915a"
   }
  }
 },
 "nbformat": 4,
 "nbformat_minor": 2
}
